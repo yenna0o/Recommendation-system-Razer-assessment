{
 "cells": [
  {
   "cell_type": "code",
   "execution_count": 291,
   "id": "6cbc0ce5",
   "metadata": {},
   "outputs": [],
   "source": [
    "#Imports relevant packages\n",
    "import pandas as pd\n",
    "import numpy as np\n",
    "import matplotlib.pyplot as plt\n",
    "import seaborn as sns\n",
    "import json\n",
    "import gzip"
   ]
  },
  {
   "cell_type": "code",
   "execution_count": 271,
   "id": "db8f61e0",
   "metadata": {},
   "outputs": [],
   "source": [
    "#reading in data as pd dataframe\n",
    "def parse(path):\n",
    "  g = gzip.open(path, 'rb')\n",
    "  for l in g:\n",
    "    yield json.loads(l)\n",
    "def getDF(path):\n",
    "  i = 0\n",
    "  df = {}\n",
    "  for d in parse(path):\n",
    "    df[i] = d\n",
    "    i += 1\n",
    "  return pd.DataFrame.from_dict(df, orient='index')\n",
    "\n",
    "df = getDF('Appliances.json.gz')\n",
    "df_meta = getDF('meta_Appliances.json.gz')"
   ]
  },
  {
   "cell_type": "markdown",
   "id": "05316a94",
   "metadata": {},
   "source": [
    "algo 1:\n",
    "- when a product is given, find top 5 ave ranking products that is also bought with it.\n",
    "- if there are more than 5 proucts with the same highest ranking, randomly generate 5.\n",
    "- if no records for its 'also_buy', use the same logic from a pool of products of the same brand.\n",
    "- if not more than 5 or no same brand, generate the rest from a pool of top selling products."
   ]
  },
  {
   "cell_type": "code",
   "execution_count": null,
   "id": "1e9614b6",
   "metadata": {},
   "outputs": [],
   "source": [
    "##prepare product vs their also_buy products"
   ]
  },
  {
   "cell_type": "code",
   "execution_count": 362,
   "id": "a2317d34",
   "metadata": {},
   "outputs": [
    {
     "name": "stdout",
     "output_type": "stream",
     "text": [
      "<class 'pandas.core.frame.DataFrame'>\n",
      "Int64Index: 26041 entries, 0 to 30444\n",
      "Data columns (total 4 columns):\n",
      " #   Column    Non-Null Count  Dtype \n",
      "---  ------    --------------  ----- \n",
      " 0   asin      26041 non-null  object\n",
      " 1   title     26041 non-null  object\n",
      " 2   brand     26041 non-null  object\n",
      " 3   also_buy  26041 non-null  object\n",
      "dtypes: object(4)\n",
      "memory usage: 2.0+ MB\n"
     ]
    }
   ],
   "source": [
    "sliced_df_meta = df_meta[['asin','title','brand','also_buy']]\n",
    "sliced_df_meta.info()"
   ]
  },
  {
   "cell_type": "code",
   "execution_count": 363,
   "id": "acedc459",
   "metadata": {},
   "outputs": [
    {
     "data": {
      "text/html": [
       "<div>\n",
       "<style scoped>\n",
       "    .dataframe tbody tr th:only-of-type {\n",
       "        vertical-align: middle;\n",
       "    }\n",
       "\n",
       "    .dataframe tbody tr th {\n",
       "        vertical-align: top;\n",
       "    }\n",
       "\n",
       "    .dataframe thead th {\n",
       "        text-align: right;\n",
       "    }\n",
       "</style>\n",
       "<table border=\"1\" class=\"dataframe\">\n",
       "  <thead>\n",
       "    <tr style=\"text-align: right;\">\n",
       "      <th></th>\n",
       "      <th>asin</th>\n",
       "      <th>title</th>\n",
       "      <th>brand</th>\n",
       "      <th>also_buy</th>\n",
       "    </tr>\n",
       "  </thead>\n",
       "  <tbody>\n",
       "    <tr>\n",
       "      <th>0</th>\n",
       "      <td>7301113188</td>\n",
       "      <td>Tupperware Freezer Square Round Container Set of 6</td>\n",
       "      <td>Tupperware</td>\n",
       "      <td>[]</td>\n",
       "    </tr>\n",
       "  </tbody>\n",
       "</table>\n",
       "</div>"
      ],
      "text/plain": [
       "         asin                                               title       brand also_buy\n",
       "0  7301113188  Tupperware Freezer Square Round Container Set of 6  Tupperware       []"
      ]
     },
     "execution_count": 363,
     "metadata": {},
     "output_type": "execute_result"
    }
   ],
   "source": [
    "sliced_df_meta.head(1)"
   ]
  },
  {
   "cell_type": "code",
   "execution_count": 365,
   "id": "f8173430",
   "metadata": {},
   "outputs": [
    {
     "name": "stderr",
     "output_type": "stream",
     "text": [
      "C:\\Users\\SESA724963\\AppData\\Local\\Temp\\ipykernel_4472\\4216769007.py:6: SettingWithCopyWarning: \n",
      "A value is trying to be set on a copy of a slice from a DataFrame\n",
      "\n",
      "See the caveats in the documentation: https://pandas.pydata.org/pandas-docs/stable/user_guide/indexing.html#returning-a-view-versus-a-copy\n",
      "  sliced_df_meta.drop(rows_toDrop,inplace=True)\n"
     ]
    }
   ],
   "source": [
    "#drop Nan in also_buy\n",
    "rows_toDrop=[]\n",
    "for row_index in sliced_df_meta.index:\n",
    "    if len(sliced_df_meta['also_buy'][row_index])==0:\n",
    "        rows_toDrop.append(row_index)\n",
    "sliced_df_meta.drop(rows_toDrop,inplace=True)"
   ]
  },
  {
   "cell_type": "code",
   "execution_count": 366,
   "id": "a562f8e4",
   "metadata": {},
   "outputs": [
    {
     "data": {
      "text/html": [
       "<div>\n",
       "<style scoped>\n",
       "    .dataframe tbody tr th:only-of-type {\n",
       "        vertical-align: middle;\n",
       "    }\n",
       "\n",
       "    .dataframe tbody tr th {\n",
       "        vertical-align: top;\n",
       "    }\n",
       "\n",
       "    .dataframe thead th {\n",
       "        text-align: right;\n",
       "    }\n",
       "</style>\n",
       "<table border=\"1\" class=\"dataframe\">\n",
       "  <thead>\n",
       "    <tr style=\"text-align: right;\">\n",
       "      <th></th>\n",
       "      <th>asin</th>\n",
       "      <th>title</th>\n",
       "      <th>brand</th>\n",
       "      <th>also_buy</th>\n",
       "    </tr>\n",
       "  </thead>\n",
       "  <tbody>\n",
       "    <tr>\n",
       "      <th>5</th>\n",
       "      <td>B00002N7HY</td>\n",
       "      <td>Leviton 5050 B01-0-000 Electrical Receptacle, 125/250 Vac, 50 A, 3 Pole, 3 Wire, Pack of 1, Black</td>\n",
       "      <td>Leviton</td>\n",
       "      <td>[B000BPFZHM, B000FP8LK6, B07D5RQ5YL, B00002N7IL, B000FPDO4Y, B00004YUMZ, B000MIAMDK, B003AU6NDU, B000FK9X6W, B00002N5HJ, B00002N5IP, B003X57WBE, B075NW6HC6, B000VL6X22, B000BPBVZ2, B000U39Y3G, B00002N5HK, B00192QB9M, B00NPZH820, B001FD3L1G, B000P9S9I6, B000BQ8D7A, B00004YUNO, B00FI6U0GU, B00002NATY, B00002N7KX, B000U3I496, B000BQKC10]</td>\n",
       "    </tr>\n",
       "    <tr>\n",
       "      <th>6</th>\n",
       "      <td>B00002N7IL</td>\n",
       "      <td>Leviton 5206 50 Amp, 125/250 Volt, NEMA 10-50R, 3P, 3W, Flush Mounting Receptacle, Straight Blade, Industrial Grade, Non-Grounding, Side Wired, Steel Strap, Black</td>\n",
       "      <td>Leviton</td>\n",
       "      <td>[B000FK9X6W, B000BPFZHM, B000FP8LK6, B00002N7HY, B000MIAMDK, B000FP8IE0, B000BQSU8C, B000GATCE4, B000FPCL2K, B07D5RQ5YL, B000BQWP56, B01MQ1857A, B000GAQG5C, B004LYLP7I, B00002N7N0, B000HEHF0W, B000FK9X2G, B012CQG6CA, B003X4UP9Q, B0002YPKVS, B005LVI7BM, B00002N5IP, B000VL6X22, B002RL9JB6, B00009W3AA, B000LF42NK, B00GRSRGTW, B00004YUK7, B000U3I496, B000BQ8D7A, B00FI6U0GU, B00004WZ2E, B001DICWSG, B074Q38MHB, B00MU3CWH4, B000HEFFIQ, B00002N7KX, B01N8SKDY4, B01M9FC5AR, B00002N7KY, B00004YUNT, B00835URNO, B000H5Y96E, B017WKCXJQ, B000BQS5TG, B005PYHGYE]</td>\n",
       "    </tr>\n",
       "    <tr>\n",
       "      <th>15</th>\n",
       "      <td>B00004YWK2</td>\n",
       "      <td>Dundas Jafine CHK100ZW CHK100ZW6 Vents, 4-Inch, White</td>\n",
       "      <td>Dundas Jafine</td>\n",
       "      <td>[B00Q4X2FSM, B0015UGPWQ, B074CMZNFS, B073DHBNHL, B07DD2DMXB, B001AAEG5O, B000BO76WU, B01LVYZEQZ, B06XCY8NBJ, B003P2WP5S, B00009W3HD, B0032Y7EQO, B017S4JSAI, B00009W3GJ, B000DZDPHW, B00Q4X2GDQ, B008RNPOIU, B013TI7A4S, B000FK9X6W, B002STM7FM, B01FROBUXE, B001AH3K72, B0006IEMUK, B00EPE3XHY, B000DZFTC6, B003NYBKWC, B00438NXKY, B0063KCFK4, B000DZDPI6, B00EZT5AQ6, B01N6DV33G, B007Y7EP5I, B001KC2A0U, B00009W3I4]</td>\n",
       "    </tr>\n",
       "    <tr>\n",
       "      <th>17</th>\n",
       "      <td>B00005OU6T</td>\n",
       "      <td>Holmes &amp;quot;C&amp;quot; Humidifier Filter, HWF65PDQ-U</td>\n",
       "      <td>Holmes</td>\n",
       "      <td>[B000LSWX5G, B06XYHYV2H, B0002TSA8I, B07HCGP8W9, B000CMHLMG, B0167KYNC2, B079T4XXQY, B072MQ8MX8, B01MUHZQLB, B07GXBTH82, B000AO1G72, B000VGX4TM, B000VBLBUG, B01695ZE0U, B0001YAPHS, B000HJD9NE, B000E1385Y, B0055522EM, B0002GD194, B000BQY77K, B0175Y17SW, B01N6MV8SA, B0013BKDO8, B07D1GW783, B01G6921ZU, B01GV8JO1A, 0316436674, B00XJYP7Z2, B001I49Q98, B0026SZF4A, B01H1R0K68, B008TEXFAQ]</td>\n",
       "    </tr>\n",
       "    <tr>\n",
       "      <th>18</th>\n",
       "      <td>B00006IV17</td>\n",
       "      <td>Holmes &amp;quot;A&amp;quot; Humidifier Filter, HWF62</td>\n",
       "      <td>Holmes</td>\n",
       "      <td>[B0002TSA8I, B0001YAPHS, B01DJV1ZBO, B00JJYUBPW, B008QJWOC4, B0002TSA8S, B07GXBTH82, B000E1385Y, B000AO1G72, B0055522EM, B00EAXO9I2, B000VGX4TM, B000BQY77K, B0756L78G2, B015WYAQLQ, B07899VVBZ, B008TEXFAQ, B00JR947EU]</td>\n",
       "    </tr>\n",
       "    <tr>\n",
       "      <th>...</th>\n",
       "      <td>...</td>\n",
       "      <td>...</td>\n",
       "      <td>...</td>\n",
       "      <td>...</td>\n",
       "    </tr>\n",
       "    <tr>\n",
       "      <th>30424</th>\n",
       "      <td>B01HIF4N52</td>\n",
       "      <td>GE WR71X11049 Parts Shelf Module Assembly</td>\n",
       "      <td>GE</td>\n",
       "      <td>[B00MNMU800]</td>\n",
       "    </tr>\n",
       "    <tr>\n",
       "      <th>30430</th>\n",
       "      <td>B01HIQV5DE</td>\n",
       "      <td>Samsung Da29-00020b Refrigerator water filter By Miara`s Collections</td>\n",
       "      <td>MIARA`S Collections</td>\n",
       "      <td>[B01D58Y068, B01CA34OVK, B00L1JT4YM]</td>\n",
       "    </tr>\n",
       "    <tr>\n",
       "      <th>30435</th>\n",
       "      <td>B01HJGWMTO</td>\n",
       "      <td>Bosch 00438026 Door Latch</td>\n",
       "      <td>Bosch</td>\n",
       "      <td>[B004XLDRUM, B00U7HH176, B00CDS7ZUU]</td>\n",
       "    </tr>\n",
       "    <tr>\n",
       "      <th>30439</th>\n",
       "      <td>B01HJH651Y</td>\n",
       "      <td>Bosch 00494772 Sealing</td>\n",
       "      <td>Bosch</td>\n",
       "      <td>[B00ODI8S7W, B00NZMZRWG, B004XLDRUM, B00COPQ6Q6, B004XL0XNG, B01BDST9AY, B002ZNDZDY, B000XYOUTA, B010GS5YL0]</td>\n",
       "    </tr>\n",
       "    <tr>\n",
       "      <th>30443</th>\n",
       "      <td>B01HJHHEA0</td>\n",
       "      <td>Frigidaire 316543810 Knob</td>\n",
       "      <td>Frigidaire</td>\n",
       "      <td>[B00O9ZFAF2]</td>\n",
       "    </tr>\n",
       "  </tbody>\n",
       "</table>\n",
       "<p>7903 rows × 4 columns</p>\n",
       "</div>"
      ],
      "text/plain": [
       "             asin                                                                                                                                                               title                brand                                                                                                                                                                                                                                                                                                                                                                                                                                                                                                                                                                  also_buy\n",
       "5      B00002N7HY                                                                   Leviton 5050 B01-0-000 Electrical Receptacle, 125/250 Vac, 50 A, 3 Pole, 3 Wire, Pack of 1, Black              Leviton                                                                                                                                                                                                                          [B000BPFZHM, B000FP8LK6, B07D5RQ5YL, B00002N7IL, B000FPDO4Y, B00004YUMZ, B000MIAMDK, B003AU6NDU, B000FK9X6W, B00002N5HJ, B00002N5IP, B003X57WBE, B075NW6HC6, B000VL6X22, B000BPBVZ2, B000U39Y3G, B00002N5HK, B00192QB9M, B00NPZH820, B001FD3L1G, B000P9S9I6, B000BQ8D7A, B00004YUNO, B00FI6U0GU, B00002NATY, B00002N7KX, B000U3I496, B000BQKC10]\n",
       "6      B00002N7IL  Leviton 5206 50 Amp, 125/250 Volt, NEMA 10-50R, 3P, 3W, Flush Mounting Receptacle, Straight Blade, Industrial Grade, Non-Grounding, Side Wired, Steel Strap, Black              Leviton  [B000FK9X6W, B000BPFZHM, B000FP8LK6, B00002N7HY, B000MIAMDK, B000FP8IE0, B000BQSU8C, B000GATCE4, B000FPCL2K, B07D5RQ5YL, B000BQWP56, B01MQ1857A, B000GAQG5C, B004LYLP7I, B00002N7N0, B000HEHF0W, B000FK9X2G, B012CQG6CA, B003X4UP9Q, B0002YPKVS, B005LVI7BM, B00002N5IP, B000VL6X22, B002RL9JB6, B00009W3AA, B000LF42NK, B00GRSRGTW, B00004YUK7, B000U3I496, B000BQ8D7A, B00FI6U0GU, B00004WZ2E, B001DICWSG, B074Q38MHB, B00MU3CWH4, B000HEFFIQ, B00002N7KX, B01N8SKDY4, B01M9FC5AR, B00002N7KY, B00004YUNT, B00835URNO, B000H5Y96E, B017WKCXJQ, B000BQS5TG, B005PYHGYE]\n",
       "15     B00004YWK2                                                                                                               Dundas Jafine CHK100ZW CHK100ZW6 Vents, 4-Inch, White        Dundas Jafine                                                                                                                                                  [B00Q4X2FSM, B0015UGPWQ, B074CMZNFS, B073DHBNHL, B07DD2DMXB, B001AAEG5O, B000BO76WU, B01LVYZEQZ, B06XCY8NBJ, B003P2WP5S, B00009W3HD, B0032Y7EQO, B017S4JSAI, B00009W3GJ, B000DZDPHW, B00Q4X2GDQ, B008RNPOIU, B013TI7A4S, B000FK9X6W, B002STM7FM, B01FROBUXE, B001AH3K72, B0006IEMUK, B00EPE3XHY, B000DZFTC6, B003NYBKWC, B00438NXKY, B0063KCFK4, B000DZDPI6, B00EZT5AQ6, B01N6DV33G, B007Y7EP5I, B001KC2A0U, B00009W3I4]\n",
       "17     B00005OU6T                                                                                                                  Holmes &quot;C&quot; Humidifier Filter, HWF65PDQ-U               Holmes                                                                                                                                                                          [B000LSWX5G, B06XYHYV2H, B0002TSA8I, B07HCGP8W9, B000CMHLMG, B0167KYNC2, B079T4XXQY, B072MQ8MX8, B01MUHZQLB, B07GXBTH82, B000AO1G72, B000VGX4TM, B000VBLBUG, B01695ZE0U, B0001YAPHS, B000HJD9NE, B000E1385Y, B0055522EM, B0002GD194, B000BQY77K, B0175Y17SW, B01N6MV8SA, B0013BKDO8, B07D1GW783, B01G6921ZU, B01GV8JO1A, 0316436674, B00XJYP7Z2, B001I49Q98, B0026SZF4A, B01H1R0K68, B008TEXFAQ]\n",
       "18     B00006IV17                                                                                                                       Holmes &quot;A&quot; Humidifier Filter, HWF62               Holmes                                                                                                                                                                                                                                                                                                                                                  [B0002TSA8I, B0001YAPHS, B01DJV1ZBO, B00JJYUBPW, B008QJWOC4, B0002TSA8S, B07GXBTH82, B000E1385Y, B000AO1G72, B0055522EM, B00EAXO9I2, B000VGX4TM, B000BQY77K, B0756L78G2, B015WYAQLQ, B07899VVBZ, B008TEXFAQ, B00JR947EU]\n",
       "...           ...                                                                                                                                                                 ...                  ...                                                                                                                                                                                                                                                                                                                                                                                                                                                                                                                                                                       ...\n",
       "30424  B01HIF4N52                                                                                                                           GE WR71X11049 Parts Shelf Module Assembly                   GE                                                                                                                                                                                                                                                                                                                                                                                                                                                                                                                                                              [B00MNMU800]\n",
       "30430  B01HIQV5DE                                                                                                Samsung Da29-00020b Refrigerator water filter By Miara`s Collections  MIARA`S Collections                                                                                                                                                                                                                                                                                                                                                                                                                                                                                                                                      [B01D58Y068, B01CA34OVK, B00L1JT4YM]\n",
       "30435  B01HJGWMTO                                                                                                                                           Bosch 00438026 Door Latch                Bosch                                                                                                                                                                                                                                                                                                                                                                                                                                                                                                                                      [B004XLDRUM, B00U7HH176, B00CDS7ZUU]\n",
       "30439  B01HJH651Y                                                                                                                                              Bosch 00494772 Sealing                Bosch                                                                                                                                                                                                                                                                                                                                                                                                                                                              [B00ODI8S7W, B00NZMZRWG, B004XLDRUM, B00COPQ6Q6, B004XL0XNG, B01BDST9AY, B002ZNDZDY, B000XYOUTA, B010GS5YL0]\n",
       "30443  B01HJHHEA0                                                                                                                                           Frigidaire 316543810 Knob           Frigidaire                                                                                                                                                                                                                                                                                                                                                                                                                                                                                                                                                              [B00O9ZFAF2]\n",
       "\n",
       "[7903 rows x 4 columns]"
      ]
     },
     "execution_count": 366,
     "metadata": {},
     "output_type": "execute_result"
    }
   ],
   "source": [
    "sliced_df_meta"
   ]
  },
  {
   "cell_type": "code",
   "execution_count": null,
   "id": "f5468e8d",
   "metadata": {},
   "outputs": [],
   "source": [
    "##prepare prodcuts with ave rating of 4-5, and being reviewed for more than x times"
   ]
  },
  {
   "cell_type": "code",
   "execution_count": 391,
   "id": "fa5f1569",
   "metadata": {},
   "outputs": [
    {
     "name": "stderr",
     "output_type": "stream",
     "text": [
      "C:\\Users\\SESA724963\\AppData\\Local\\Temp\\ipykernel_4472\\2351479192.py:5: FutureWarning: Indexing with multiple keys (implicitly converted to a tuple of keys) will be deprecated, use a list instead.\n",
      "  review_freq=review_freq.groupby('asin')['overall','count'].agg('mean','sum')\n"
     ]
    },
    {
     "data": {
      "text/html": [
       "<div>\n",
       "<style scoped>\n",
       "    .dataframe tbody tr th:only-of-type {\n",
       "        vertical-align: middle;\n",
       "    }\n",
       "\n",
       "    .dataframe tbody tr th {\n",
       "        vertical-align: top;\n",
       "    }\n",
       "\n",
       "    .dataframe thead th {\n",
       "        text-align: right;\n",
       "    }\n",
       "</style>\n",
       "<table border=\"1\" class=\"dataframe\">\n",
       "  <thead>\n",
       "    <tr style=\"text-align: right;\">\n",
       "      <th></th>\n",
       "      <th>overall</th>\n",
       "      <th>count</th>\n",
       "    </tr>\n",
       "    <tr>\n",
       "      <th>asin</th>\n",
       "      <th></th>\n",
       "      <th></th>\n",
       "    </tr>\n",
       "  </thead>\n",
       "  <tbody>\n",
       "    <tr>\n",
       "      <th>1118461304</th>\n",
       "      <td>4.0</td>\n",
       "      <td>15.0</td>\n",
       "    </tr>\n",
       "    <tr>\n",
       "      <th>1906487049</th>\n",
       "      <td>4.5</td>\n",
       "      <td>1.5</td>\n",
       "    </tr>\n",
       "    <tr>\n",
       "      <th>6040985461</th>\n",
       "      <td>5.0</td>\n",
       "      <td>1.0</td>\n",
       "    </tr>\n",
       "    <tr>\n",
       "      <th>7301113188</th>\n",
       "      <td>5.0</td>\n",
       "      <td>1.0</td>\n",
       "    </tr>\n",
       "    <tr>\n",
       "      <th>7861850250</th>\n",
       "      <td>3.0</td>\n",
       "      <td>1.0</td>\n",
       "    </tr>\n",
       "    <tr>\n",
       "      <th>...</th>\n",
       "      <td>...</td>\n",
       "      <td>...</td>\n",
       "    </tr>\n",
       "    <tr>\n",
       "      <th>B01HJH651Y</th>\n",
       "      <td>3.0</td>\n",
       "      <td>1.5</td>\n",
       "    </tr>\n",
       "    <tr>\n",
       "      <th>B01HJH6JT2</th>\n",
       "      <td>5.0</td>\n",
       "      <td>1.0</td>\n",
       "    </tr>\n",
       "    <tr>\n",
       "      <th>B01HJH92JQ</th>\n",
       "      <td>2.0</td>\n",
       "      <td>1.0</td>\n",
       "    </tr>\n",
       "    <tr>\n",
       "      <th>B01HJHHEA0</th>\n",
       "      <td>3.5</td>\n",
       "      <td>1.0</td>\n",
       "    </tr>\n",
       "    <tr>\n",
       "      <th>B01HJHHQM6</th>\n",
       "      <td>5.0</td>\n",
       "      <td>1.0</td>\n",
       "    </tr>\n",
       "  </tbody>\n",
       "</table>\n",
       "<p>30252 rows × 2 columns</p>\n",
       "</div>"
      ],
      "text/plain": [
       "            overall  count\n",
       "asin                      \n",
       "1118461304      4.0   15.0\n",
       "1906487049      4.5    1.5\n",
       "6040985461      5.0    1.0\n",
       "7301113188      5.0    1.0\n",
       "7861850250      3.0    1.0\n",
       "...             ...    ...\n",
       "B01HJH651Y      3.0    1.5\n",
       "B01HJH6JT2      5.0    1.0\n",
       "B01HJH92JQ      2.0    1.0\n",
       "B01HJHHEA0      3.5    1.0\n",
       "B01HJHHQM6      5.0    1.0\n",
       "\n",
       "[30252 rows x 2 columns]"
      ]
     },
     "execution_count": 391,
     "metadata": {},
     "output_type": "execute_result"
    }
   ],
   "source": [
    "review_freq=df.groupby('asin')['overall'].value_counts()\n",
    "review_freq=pd.DataFrame(review_freq)\n",
    "review_freq.rename(columns={'overall':'count'},inplace=True)\n",
    "review_freq.reset_index(inplace=True)\n",
    "review_freq=review_freq.groupby('asin')['overall','count'].agg('mean','sum')\n",
    "review_freq"
   ]
  },
  {
   "cell_type": "code",
   "execution_count": 369,
   "id": "a32efea5",
   "metadata": {},
   "outputs": [
    {
     "data": {
      "text/html": [
       "<div>\n",
       "<style scoped>\n",
       "    .dataframe tbody tr th:only-of-type {\n",
       "        vertical-align: middle;\n",
       "    }\n",
       "\n",
       "    .dataframe tbody tr th {\n",
       "        vertical-align: top;\n",
       "    }\n",
       "\n",
       "    .dataframe thead th {\n",
       "        text-align: right;\n",
       "    }\n",
       "</style>\n",
       "<table border=\"1\" class=\"dataframe\">\n",
       "  <thead>\n",
       "    <tr style=\"text-align: right;\">\n",
       "      <th></th>\n",
       "      <th>overall</th>\n",
       "    </tr>\n",
       "    <tr>\n",
       "      <th>asin</th>\n",
       "      <th></th>\n",
       "    </tr>\n",
       "  </thead>\n",
       "  <tbody>\n",
       "    <tr>\n",
       "      <th>B00GS3TIQA</th>\n",
       "      <td>5.0</td>\n",
       "    </tr>\n",
       "    <tr>\n",
       "      <th>B00IIHCDKW</th>\n",
       "      <td>5.0</td>\n",
       "    </tr>\n",
       "    <tr>\n",
       "      <th>B00IIHDQ3U</th>\n",
       "      <td>5.0</td>\n",
       "    </tr>\n",
       "    <tr>\n",
       "      <th>B00IIHDQEO</th>\n",
       "      <td>5.0</td>\n",
       "    </tr>\n",
       "    <tr>\n",
       "      <th>B00IIHDTVY</th>\n",
       "      <td>5.0</td>\n",
       "    </tr>\n",
       "    <tr>\n",
       "      <th>...</th>\n",
       "      <td>...</td>\n",
       "    </tr>\n",
       "    <tr>\n",
       "      <th>B012SWC03M</th>\n",
       "      <td>1.0</td>\n",
       "    </tr>\n",
       "    <tr>\n",
       "      <th>B012SX6I9S</th>\n",
       "      <td>1.0</td>\n",
       "    </tr>\n",
       "    <tr>\n",
       "      <th>B012TTBC7Y</th>\n",
       "      <td>1.0</td>\n",
       "    </tr>\n",
       "    <tr>\n",
       "      <th>B00EN8MXYG</th>\n",
       "      <td>1.0</td>\n",
       "    </tr>\n",
       "    <tr>\n",
       "      <th>B006HHAX2A</th>\n",
       "      <td>1.0</td>\n",
       "    </tr>\n",
       "  </tbody>\n",
       "</table>\n",
       "<p>30252 rows × 1 columns</p>\n",
       "</div>"
      ],
      "text/plain": [
       "            overall\n",
       "asin               \n",
       "B00GS3TIQA      5.0\n",
       "B00IIHCDKW      5.0\n",
       "B00IIHDQ3U      5.0\n",
       "B00IIHDQEO      5.0\n",
       "B00IIHDTVY      5.0\n",
       "...             ...\n",
       "B012SWC03M      1.0\n",
       "B012SX6I9S      1.0\n",
       "B012TTBC7Y      1.0\n",
       "B00EN8MXYG      1.0\n",
       "B006HHAX2A      1.0\n",
       "\n",
       "[30252 rows x 1 columns]"
      ]
     },
     "execution_count": 369,
     "metadata": {},
     "output_type": "execute_result"
    }
   ],
   "source": [
    "ave_overall_per_product = pd.DataFrame(df.groupby(['asin'])['overall'].mean())\n",
    "ave_overall_per_product.sort_values(by=['overall'],inplace=True,ascending=False)\n",
    "ave_overall_per_product"
   ]
  },
  {
   "cell_type": "code",
   "execution_count": null,
   "id": "15d94974",
   "metadata": {},
   "outputs": [],
   "source": []
  },
  {
   "cell_type": "markdown",
   "id": "7ad1570a",
   "metadata": {},
   "source": [
    "# EDA"
   ]
  },
  {
   "cell_type": "code",
   "execution_count": 44,
   "id": "bc1302e7",
   "metadata": {},
   "outputs": [
    {
     "data": {
      "text/plain": [
       "515650"
      ]
     },
     "execution_count": 44,
     "metadata": {},
     "output_type": "execute_result"
    }
   ],
   "source": [
    "#nunique users\n",
    "df['reviewerID'].nunique()"
   ]
  },
  {
   "cell_type": "code",
   "execution_count": 21,
   "id": "cf76711e",
   "metadata": {},
   "outputs": [
    {
     "data": {
      "text/plain": [
       "30252"
      ]
     },
     "execution_count": 21,
     "metadata": {},
     "output_type": "execute_result"
    }
   ],
   "source": [
    "#Nunique products\n",
    "df['asin'].nunique()"
   ]
  },
  {
   "cell_type": "code",
   "execution_count": 35,
   "id": "da0d8870",
   "metadata": {},
   "outputs": [
    {
     "data": {
      "image/png": "[encoded data removed]",
      "text/plain": [
       "<Figure size 640x480 with 1 Axes>"
      ]
     },
     "metadata": {},
     "output_type": "display_data"
    }
   ],
   "source": [
    "#visualize distribution of 'overall' scores given by all users\n",
    "hist, edges = np.histogram(df['overall'], bins=np.arange(1,7)-0.5)\n",
    "plt.bar(edges[:-1], hist, align=\"edge\", ec=\"k\", width=np.diff(edges))\n",
    "plt.xticks(np.arange(1,6))\n",
    "plt.show()"
   ]
  },
  {
   "cell_type": "markdown",
   "id": "49661bc5",
   "metadata": {},
   "source": [
    "Most users would give a score of 5."
   ]
  },
  {
   "cell_type": "code",
   "execution_count": 43,
   "id": "030b7ceb",
   "metadata": {},
   "outputs": [
    {
     "data": {
      "image/png": "[encoded data removed]",
      "text/plain": [
       "<Figure size 640x480 with 1 Axes>"
      ]
     },
     "metadata": {},
     "output_type": "display_data"
    }
   ],
   "source": [
    "ave_overall_per_product = pd.DataFrame(df.groupby(['asin'])['overall'].mean())\n",
    "ave_overall_per_product.sort_values(by=['overall'],inplace=True,ascending=False)\n",
    "#visualize distribution of average 'overall' scores of every product\n",
    "hist, edges = np.histogram(ave_overall_per_product['overall'], bins=np.arange(1,7)-0.5)\n",
    "plt.bar(edges[:-1], hist, align=\"edge\", ec=\"k\", width=np.diff(edges))\n",
    "plt.xticks(np.arange(1,6))\n",
    "plt.show()"
   ]
  },
  {
   "cell_type": "markdown",
   "id": "e91a3246",
   "metadata": {},
   "source": [
    "Most products were given an average score of 5 by users."
   ]
  },
  {
   "cell_type": "code",
   "execution_count": 58,
   "id": "4d58ce40",
   "metadata": {
    "collapsed": true
   },
   "outputs": [
    {
     "ename": "AttributeError",
     "evalue": "Can only use .str accessor with string values!",
     "output_type": "error",
     "traceback": [
      "\u001b[1;31m---------------------------------------------------------------------------\u001b[0m",
      "\u001b[1;31mAttributeError\u001b[0m                            Traceback (most recent call last)",
      "Cell \u001b[1;32mIn[58], line 1\u001b[0m\n\u001b[1;32m----> 1\u001b[0m df[\u001b[38;5;124m'\u001b[39m\u001b[38;5;124mvote\u001b[39m\u001b[38;5;124m'\u001b[39m] \u001b[38;5;241m=\u001b[39m \u001b[43mdf\u001b[49m\u001b[43m[\u001b[49m\u001b[38;5;124;43m'\u001b[39;49m\u001b[38;5;124;43mvote\u001b[39;49m\u001b[38;5;124;43m'\u001b[39;49m\u001b[43m]\u001b[49m\u001b[38;5;241;43m.\u001b[39;49m\u001b[43mstr\u001b[49m\u001b[38;5;241m.\u001b[39mreplace(\u001b[38;5;124m'\u001b[39m\u001b[38;5;124m,\u001b[39m\u001b[38;5;124m'\u001b[39m, \u001b[38;5;124m'\u001b[39m\u001b[38;5;124m'\u001b[39m)  \u001b[38;5;66;03m# Remove commas from the column\u001b[39;00m\n\u001b[0;32m      2\u001b[0m df[\u001b[38;5;124m'\u001b[39m\u001b[38;5;124mvote\u001b[39m\u001b[38;5;124m'\u001b[39m] \u001b[38;5;241m=\u001b[39m df[\u001b[38;5;124m'\u001b[39m\u001b[38;5;124mvote\u001b[39m\u001b[38;5;124m'\u001b[39m]\u001b[38;5;241m.\u001b[39mfillna(\u001b[38;5;241m0\u001b[39m)  \u001b[38;5;66;03m# Fill NaN values with 0\u001b[39;00m\n\u001b[0;32m      3\u001b[0m df[\u001b[38;5;124m'\u001b[39m\u001b[38;5;124mvote\u001b[39m\u001b[38;5;124m'\u001b[39m] \u001b[38;5;241m=\u001b[39m df[\u001b[38;5;124m'\u001b[39m\u001b[38;5;124mvote\u001b[39m\u001b[38;5;124m'\u001b[39m]\u001b[38;5;241m.\u001b[39mastype(\u001b[38;5;28mint\u001b[39m)  \u001b[38;5;66;03m# Convert the column to integer type\u001b[39;00m\n",
      "File \u001b[1;32m~\\AppData\\Local\\anaconda3\\lib\\site-packages\\pandas\\core\\generic.py:5902\u001b[0m, in \u001b[0;36mNDFrame.__getattr__\u001b[1;34m(self, name)\u001b[0m\n\u001b[0;32m   5895\u001b[0m \u001b[38;5;28;01mif\u001b[39;00m (\n\u001b[0;32m   5896\u001b[0m     name \u001b[38;5;129;01mnot\u001b[39;00m \u001b[38;5;129;01min\u001b[39;00m \u001b[38;5;28mself\u001b[39m\u001b[38;5;241m.\u001b[39m_internal_names_set\n\u001b[0;32m   5897\u001b[0m     \u001b[38;5;129;01mand\u001b[39;00m name \u001b[38;5;129;01mnot\u001b[39;00m \u001b[38;5;129;01min\u001b[39;00m \u001b[38;5;28mself\u001b[39m\u001b[38;5;241m.\u001b[39m_metadata\n\u001b[0;32m   5898\u001b[0m     \u001b[38;5;129;01mand\u001b[39;00m name \u001b[38;5;129;01mnot\u001b[39;00m \u001b[38;5;129;01min\u001b[39;00m \u001b[38;5;28mself\u001b[39m\u001b[38;5;241m.\u001b[39m_accessors\n\u001b[0;32m   5899\u001b[0m     \u001b[38;5;129;01mand\u001b[39;00m \u001b[38;5;28mself\u001b[39m\u001b[38;5;241m.\u001b[39m_info_axis\u001b[38;5;241m.\u001b[39m_can_hold_identifiers_and_holds_name(name)\n\u001b[0;32m   5900\u001b[0m ):\n\u001b[0;32m   5901\u001b[0m     \u001b[38;5;28;01mreturn\u001b[39;00m \u001b[38;5;28mself\u001b[39m[name]\n\u001b[1;32m-> 5902\u001b[0m \u001b[38;5;28;01mreturn\u001b[39;00m \u001b[38;5;28;43mobject\u001b[39;49m\u001b[38;5;241;43m.\u001b[39;49m\u001b[38;5;21;43m__getattribute__\u001b[39;49m\u001b[43m(\u001b[49m\u001b[38;5;28;43mself\u001b[39;49m\u001b[43m,\u001b[49m\u001b[43m \u001b[49m\u001b[43mname\u001b[49m\u001b[43m)\u001b[49m\n",
      "File \u001b[1;32m~\\AppData\\Local\\anaconda3\\lib\\site-packages\\pandas\\core\\accessor.py:182\u001b[0m, in \u001b[0;36mCachedAccessor.__get__\u001b[1;34m(self, obj, cls)\u001b[0m\n\u001b[0;32m    179\u001b[0m \u001b[38;5;28;01mif\u001b[39;00m obj \u001b[38;5;129;01mis\u001b[39;00m \u001b[38;5;28;01mNone\u001b[39;00m:\n\u001b[0;32m    180\u001b[0m     \u001b[38;5;66;03m# we're accessing the attribute of the class, i.e., Dataset.geo\u001b[39;00m\n\u001b[0;32m    181\u001b[0m     \u001b[38;5;28;01mreturn\u001b[39;00m \u001b[38;5;28mself\u001b[39m\u001b[38;5;241m.\u001b[39m_accessor\n\u001b[1;32m--> 182\u001b[0m accessor_obj \u001b[38;5;241m=\u001b[39m \u001b[38;5;28;43mself\u001b[39;49m\u001b[38;5;241;43m.\u001b[39;49m\u001b[43m_accessor\u001b[49m\u001b[43m(\u001b[49m\u001b[43mobj\u001b[49m\u001b[43m)\u001b[49m\n\u001b[0;32m    183\u001b[0m \u001b[38;5;66;03m# Replace the property with the accessor object. Inspired by:\u001b[39;00m\n\u001b[0;32m    184\u001b[0m \u001b[38;5;66;03m# https://www.pydanny.com/cached-property.html\u001b[39;00m\n\u001b[0;32m    185\u001b[0m \u001b[38;5;66;03m# We need to use object.__setattr__ because we overwrite __setattr__ on\u001b[39;00m\n\u001b[0;32m    186\u001b[0m \u001b[38;5;66;03m# NDFrame\u001b[39;00m\n\u001b[0;32m    187\u001b[0m \u001b[38;5;28mobject\u001b[39m\u001b[38;5;241m.\u001b[39m\u001b[38;5;21m__setattr__\u001b[39m(obj, \u001b[38;5;28mself\u001b[39m\u001b[38;5;241m.\u001b[39m_name, accessor_obj)\n",
      "File \u001b[1;32m~\\AppData\\Local\\anaconda3\\lib\\site-packages\\pandas\\core\\strings\\accessor.py:181\u001b[0m, in \u001b[0;36mStringMethods.__init__\u001b[1;34m(self, data)\u001b[0m\n\u001b[0;32m    178\u001b[0m \u001b[38;5;28;01mdef\u001b[39;00m \u001b[38;5;21m__init__\u001b[39m(\u001b[38;5;28mself\u001b[39m, data) \u001b[38;5;241m-\u001b[39m\u001b[38;5;241m>\u001b[39m \u001b[38;5;28;01mNone\u001b[39;00m:\n\u001b[0;32m    179\u001b[0m     \u001b[38;5;28;01mfrom\u001b[39;00m \u001b[38;5;21;01mpandas\u001b[39;00m\u001b[38;5;21;01m.\u001b[39;00m\u001b[38;5;21;01mcore\u001b[39;00m\u001b[38;5;21;01m.\u001b[39;00m\u001b[38;5;21;01marrays\u001b[39;00m\u001b[38;5;21;01m.\u001b[39;00m\u001b[38;5;21;01mstring_\u001b[39;00m \u001b[38;5;28;01mimport\u001b[39;00m StringDtype\n\u001b[1;32m--> 181\u001b[0m     \u001b[38;5;28mself\u001b[39m\u001b[38;5;241m.\u001b[39m_inferred_dtype \u001b[38;5;241m=\u001b[39m \u001b[38;5;28;43mself\u001b[39;49m\u001b[38;5;241;43m.\u001b[39;49m\u001b[43m_validate\u001b[49m\u001b[43m(\u001b[49m\u001b[43mdata\u001b[49m\u001b[43m)\u001b[49m\n\u001b[0;32m    182\u001b[0m     \u001b[38;5;28mself\u001b[39m\u001b[38;5;241m.\u001b[39m_is_categorical \u001b[38;5;241m=\u001b[39m is_categorical_dtype(data\u001b[38;5;241m.\u001b[39mdtype)\n\u001b[0;32m    183\u001b[0m     \u001b[38;5;28mself\u001b[39m\u001b[38;5;241m.\u001b[39m_is_string \u001b[38;5;241m=\u001b[39m \u001b[38;5;28misinstance\u001b[39m(data\u001b[38;5;241m.\u001b[39mdtype, StringDtype)\n",
      "File \u001b[1;32m~\\AppData\\Local\\anaconda3\\lib\\site-packages\\pandas\\core\\strings\\accessor.py:235\u001b[0m, in \u001b[0;36mStringMethods._validate\u001b[1;34m(data)\u001b[0m\n\u001b[0;32m    232\u001b[0m inferred_dtype \u001b[38;5;241m=\u001b[39m lib\u001b[38;5;241m.\u001b[39minfer_dtype(values, skipna\u001b[38;5;241m=\u001b[39m\u001b[38;5;28;01mTrue\u001b[39;00m)\n\u001b[0;32m    234\u001b[0m \u001b[38;5;28;01mif\u001b[39;00m inferred_dtype \u001b[38;5;129;01mnot\u001b[39;00m \u001b[38;5;129;01min\u001b[39;00m allowed_types:\n\u001b[1;32m--> 235\u001b[0m     \u001b[38;5;28;01mraise\u001b[39;00m \u001b[38;5;167;01mAttributeError\u001b[39;00m(\u001b[38;5;124m\"\u001b[39m\u001b[38;5;124mCan only use .str accessor with string values!\u001b[39m\u001b[38;5;124m\"\u001b[39m)\n\u001b[0;32m    236\u001b[0m \u001b[38;5;28;01mreturn\u001b[39;00m inferred_dtype\n",
      "\u001b[1;31mAttributeError\u001b[0m: Can only use .str accessor with string values!"
     ]
    }
   ],
   "source": [
    "df['vote'] = df['vote'].str.replace(',', '')  # Remove commas from the column\n",
    "df['vote'] = df['vote'].fillna(0)  # Fill NaN values with 0\n",
    "df['vote'] = df['vote'].astype(int)  # Convert the column to integer type\n",
    "#find sum of votes for each product\n",
    "total_vote_perProduct = pd.DataFrame(df.groupby('asin')['vote'].sum())\n",
    "total_vote_perProduct.sort_values(by=['vote'],ascending=False,inplace=True)"
   ]
  },
  {
   "cell_type": "code",
   "execution_count": 69,
   "id": "702dde28",
   "metadata": {},
   "outputs": [
    {
     "data": {
      "text/html": [
       "<div>\n",
       "<style scoped>\n",
       "    .dataframe tbody tr th:only-of-type {\n",
       "        vertical-align: middle;\n",
       "    }\n",
       "\n",
       "    .dataframe tbody tr th {\n",
       "        vertical-align: top;\n",
       "    }\n",
       "\n",
       "    .dataframe thead th {\n",
       "        text-align: right;\n",
       "    }\n",
       "</style>\n",
       "<table border=\"1\" class=\"dataframe\">\n",
       "  <thead>\n",
       "    <tr style=\"text-align: right;\">\n",
       "      <th></th>\n",
       "      <th>vote</th>\n",
       "    </tr>\n",
       "  </thead>\n",
       "  <tbody>\n",
       "    <tr>\n",
       "      <th>count</th>\n",
       "      <td>30252.000000</td>\n",
       "    </tr>\n",
       "    <tr>\n",
       "      <th>mean</th>\n",
       "      <td>34.527502</td>\n",
       "    </tr>\n",
       "    <tr>\n",
       "      <th>std</th>\n",
       "      <td>2872.014791</td>\n",
       "    </tr>\n",
       "    <tr>\n",
       "      <th>min</th>\n",
       "      <td>0.000000</td>\n",
       "    </tr>\n",
       "    <tr>\n",
       "      <th>25%</th>\n",
       "      <td>0.000000</td>\n",
       "    </tr>\n",
       "    <tr>\n",
       "      <th>50%</th>\n",
       "      <td>0.000000</td>\n",
       "    </tr>\n",
       "    <tr>\n",
       "      <th>75%</th>\n",
       "      <td>3.000000</td>\n",
       "    </tr>\n",
       "    <tr>\n",
       "      <th>max</th>\n",
       "      <td>498984.000000</td>\n",
       "    </tr>\n",
       "  </tbody>\n",
       "</table>\n",
       "</div>"
      ],
      "text/plain": [
       "                vote\n",
       "count   30252.000000\n",
       "mean       34.527502\n",
       "std      2872.014791\n",
       "min         0.000000\n",
       "25%         0.000000\n",
       "50%         0.000000\n",
       "75%         3.000000\n",
       "max    498984.000000"
      ]
     },
     "execution_count": 69,
     "metadata": {},
     "output_type": "execute_result"
    }
   ],
   "source": [
    "total_vote_perProduct.describe()"
   ]
  },
  {
   "cell_type": "markdown",
   "id": "97e5a5dc",
   "metadata": {},
   "source": [
    "- algorithm 1: content-based.\n",
    "- algorithm 2: random recommendation of the best selling items."
   ]
  },
  {
   "cell_type": "code",
   "execution_count": null,
   "id": "348832cc",
   "metadata": {},
   "outputs": [],
   "source": []
  }
 ],
 "metadata": {
  "kernelspec": {
   "display_name": "Python 3 (ipykernel)",
   "language": "python",
   "name": "python3"
  },
  "language_info": {
   "codemirror_mode": {
    "name": "ipython",
    "version": 3
   },
   "file_extension": ".py",
   "mimetype": "text/x-python",
   "name": "python",
   "nbconvert_exporter": "python",
   "pygments_lexer": "ipython3",
   "version": "3.10.9"
  }
 },
 "nbformat": 4,
 "nbformat_minor": 5
}
